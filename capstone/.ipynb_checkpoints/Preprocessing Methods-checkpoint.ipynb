{
 "cells": [
  {
   "cell_type": "markdown",
   "id": "549b940b",
   "metadata": {},
   "source": [
    "# Preprocessing Data"
   ]
  },
  {
   "cell_type": "markdown",
   "id": "c4372672",
   "metadata": {},
   "source": [
    "Sometimes we need to do some preprocessing of our data before fitting our machine learning models.\n",
    "- Encoding categorical data\n",
    "- Scaling numerical data\n",
    "\n",
    "Let's see how we can do this with our diamonds dataset."
   ]
  },
  {
   "cell_type": "markdown",
   "id": "dcf4e0ef",
   "metadata": {},
   "source": [
    "1. Importing necessary modules"
   ]
  },
  {
   "cell_type": "code",
   "execution_count": 1,
   "id": "53ad43f9",
   "metadata": {},
   "outputs": [],
   "source": [
    "import pandas as pd\n",
    "\n",
    "from sklearn.model_selection import train_test_split #split training and testing data\n",
    "from sklearn.linear_model import LinearRegression #machine learning\n",
    "from sklearn.metrics import mean_squared_error #model evaluation\n",
    "from sklearn.preprocessing import OneHotEncoder\n",
    "from sklearn.preprocessing import LabelEncoder\n",
    "from sklearn.preprocessing import StandardScaler"
   ]
  },
  {
   "cell_type": "markdown",
   "id": "9fda4780",
   "metadata": {},
   "source": [
    "2. Load dataset"
   ]
  },
  {
   "cell_type": "code",
   "execution_count": 2,
   "id": "baa2e924",
   "metadata": {},
   "outputs": [],
   "source": [
    "df = pd.read_csv(\"../Unit-2/Unit-2-01-Data-Visualization/lesson-1-data-visualization/datasets/diamonds.csv\")"
   ]
  },
  {
   "cell_type": "markdown",
   "id": "4aadc539",
   "metadata": {},
   "source": [
    "df.head()"
   ]
  },
  {
   "cell_type": "markdown",
   "id": "28ef7204",
   "metadata": {},
   "source": [
    "Let's try to predict the values of price."
   ]
  },
  {
   "cell_type": "code",
   "execution_count": 3,
   "id": "f7736f28",
   "metadata": {},
   "outputs": [
    {
     "data": {
      "text/plain": [
       "<Axes: >"
      ]
     },
     "execution_count": 3,
     "metadata": {},
     "output_type": "execute_result"
    },
    {
     "data": {
      "image/png": "[encoded data removed]",
      "text/plain": [
       "<Figure size 640x480 with 1 Axes>"
      ]
     },
     "metadata": {},
     "output_type": "display_data"
    }
   ],
   "source": [
    "df.price.hist()"
   ]
  },
  {
   "cell_type": "markdown",
   "id": "67b06130",
   "metadata": {},
   "source": []
  },
  {
   "cell_type": "code",
   "execution_count": 4,
   "id": "7305e474",
   "metadata": {},
   "outputs": [
    {
     "name": "stdout",
     "output_type": "stream",
     "text": [
      "       carat  depth  table  price     x     y     z  cut_Fair  cut_Good  \\\n",
      "0       0.23   61.5   55.0    326  3.95  3.98  2.43     False     False   \n",
      "1       0.21   59.8   61.0    326  3.89  3.84  2.31     False     False   \n",
      "2       0.23   56.9   65.0    327  4.05  4.07  2.31     False      True   \n",
      "3       0.29   62.4   58.0    334  4.20  4.23  2.63     False     False   \n",
      "4       0.31   63.3   58.0    335  4.34  4.35  2.75     False      True   \n",
      "...      ...    ...    ...    ...   ...   ...   ...       ...       ...   \n",
      "53935   0.72   60.8   57.0   2757  5.75  5.76  3.50     False     False   \n",
      "53936   0.72   63.1   55.0   2757  5.69  5.75  3.61     False      True   \n",
      "53937   0.70   62.8   60.0   2757  5.66  5.68  3.56     False     False   \n",
      "53938   0.86   61.0   58.0   2757  6.15  6.12  3.74     False     False   \n",
      "53939   0.75   62.2   55.0   2757  5.83  5.87  3.64     False     False   \n",
      "\n",
      "       cut_Ideal  ...  clarity_VS2  clarity_VVS1  clarity_VVS2  color_D  \\\n",
      "0           True  ...        False         False         False    False   \n",
      "1          False  ...        False         False         False    False   \n",
      "2          False  ...        False         False         False    False   \n",
      "3          False  ...         True         False         False    False   \n",
      "4          False  ...        False         False         False    False   \n",
      "...          ...  ...          ...           ...           ...      ...   \n",
      "53935       True  ...        False         False         False     True   \n",
      "53936      False  ...        False         False         False     True   \n",
      "53937      False  ...        False         False         False     True   \n",
      "53938      False  ...        False         False         False    False   \n",
      "53939       True  ...        False         False         False     True   \n",
      "\n",
      "       color_E  color_F  color_G  color_H  color_I  color_J  \n",
      "0         True    False    False    False    False    False  \n",
      "1         True    False    False    False    False    False  \n",
      "2         True    False    False    False    False    False  \n",
      "3        False    False    False    False     True    False  \n",
      "4        False    False    False    False    False     True  \n",
      "...        ...      ...      ...      ...      ...      ...  \n",
      "53935    False    False    False    False    False    False  \n",
      "53936    False    False    False    False    False    False  \n",
      "53937    False    False    False    False    False    False  \n",
      "53938    False    False    False     True    False    False  \n",
      "53939    False    False    False    False    False    False  \n",
      "\n",
      "[53940 rows x 27 columns]\n"
     ]
    }
   ],
   "source": [
    "one_hot_df = pd.get_dummies(df, columns = ['cut', 'clarity', 'color']) \n",
    "print(one_hot_df)"
   ]
  },
  {
   "cell_type": "code",
   "execution_count": 8,
   "id": "dbd3d774",
   "metadata": {},
   "outputs": [
    {
     "data": {
      "text/html": [
       "<div>\n",
       "<style scoped>\n",
       "    .dataframe tbody tr th:only-of-type {\n",
       "        vertical-align: middle;\n",
       "    }\n",
       "\n",
       "    .dataframe tbody tr th {\n",
       "        vertical-align: top;\n",
       "    }\n",
       "\n",
       "    .dataframe thead th {\n",
       "        text-align: right;\n",
       "    }\n",
       "</style>\n",
       "<table border=\"1\" class=\"dataframe\">\n",
       "  <thead>\n",
       "    <tr style=\"text-align: right;\">\n",
       "      <th></th>\n",
       "      <th>carat</th>\n",
       "      <th>depth</th>\n",
       "      <th>table</th>\n",
       "      <th>price</th>\n",
       "      <th>x</th>\n",
       "      <th>y</th>\n",
       "      <th>z</th>\n",
       "      <th>cut_Fair</th>\n",
       "      <th>cut_Good</th>\n",
       "      <th>cut_Ideal</th>\n",
       "      <th>...</th>\n",
       "      <th>clarity_VS2</th>\n",
       "      <th>clarity_VVS1</th>\n",
       "      <th>clarity_VVS2</th>\n",
       "      <th>color_D</th>\n",
       "      <th>color_E</th>\n",
       "      <th>color_F</th>\n",
       "      <th>color_G</th>\n",
       "      <th>color_H</th>\n",
       "      <th>color_I</th>\n",
       "      <th>color_J</th>\n",
       "    </tr>\n",
       "  </thead>\n",
       "  <tbody>\n",
       "    <tr>\n",
       "      <th>0</th>\n",
       "      <td>0.23</td>\n",
       "      <td>61.5</td>\n",
       "      <td>55.0</td>\n",
       "      <td>326</td>\n",
       "      <td>3.95</td>\n",
       "      <td>3.98</td>\n",
       "      <td>2.43</td>\n",
       "      <td>0</td>\n",
       "      <td>0</td>\n",
       "      <td>1</td>\n",
       "      <td>...</td>\n",
       "      <td>0</td>\n",
       "      <td>0</td>\n",
       "      <td>0</td>\n",
       "      <td>0</td>\n",
       "      <td>1</td>\n",
       "      <td>0</td>\n",
       "      <td>0</td>\n",
       "      <td>0</td>\n",
       "      <td>0</td>\n",
       "      <td>0</td>\n",
       "    </tr>\n",
       "    <tr>\n",
       "      <th>1</th>\n",
       "      <td>0.21</td>\n",
       "      <td>59.8</td>\n",
       "      <td>61.0</td>\n",
       "      <td>326</td>\n",
       "      <td>3.89</td>\n",
       "      <td>3.84</td>\n",
       "      <td>2.31</td>\n",
       "      <td>0</td>\n",
       "      <td>0</td>\n",
       "      <td>0</td>\n",
       "      <td>...</td>\n",
       "      <td>0</td>\n",
       "      <td>0</td>\n",
       "      <td>0</td>\n",
       "      <td>0</td>\n",
       "      <td>1</td>\n",
       "      <td>0</td>\n",
       "      <td>0</td>\n",
       "      <td>0</td>\n",
       "      <td>0</td>\n",
       "      <td>0</td>\n",
       "    </tr>\n",
       "    <tr>\n",
       "      <th>2</th>\n",
       "      <td>0.23</td>\n",
       "      <td>56.9</td>\n",
       "      <td>65.0</td>\n",
       "      <td>327</td>\n",
       "      <td>4.05</td>\n",
       "      <td>4.07</td>\n",
       "      <td>2.31</td>\n",
       "      <td>0</td>\n",
       "      <td>1</td>\n",
       "      <td>0</td>\n",
       "      <td>...</td>\n",
       "      <td>0</td>\n",
       "      <td>0</td>\n",
       "      <td>0</td>\n",
       "      <td>0</td>\n",
       "      <td>1</td>\n",
       "      <td>0</td>\n",
       "      <td>0</td>\n",
       "      <td>0</td>\n",
       "      <td>0</td>\n",
       "      <td>0</td>\n",
       "    </tr>\n",
       "    <tr>\n",
       "      <th>3</th>\n",
       "      <td>0.29</td>\n",
       "      <td>62.4</td>\n",
       "      <td>58.0</td>\n",
       "      <td>334</td>\n",
       "      <td>4.20</td>\n",
       "      <td>4.23</td>\n",
       "      <td>2.63</td>\n",
       "      <td>0</td>\n",
       "      <td>0</td>\n",
       "      <td>0</td>\n",
       "      <td>...</td>\n",
       "      <td>1</td>\n",
       "      <td>0</td>\n",
       "      <td>0</td>\n",
       "      <td>0</td>\n",
       "      <td>0</td>\n",
       "      <td>0</td>\n",
       "      <td>0</td>\n",
       "      <td>0</td>\n",
       "      <td>1</td>\n",
       "      <td>0</td>\n",
       "    </tr>\n",
       "    <tr>\n",
       "      <th>4</th>\n",
       "      <td>0.31</td>\n",
       "      <td>63.3</td>\n",
       "      <td>58.0</td>\n",
       "      <td>335</td>\n",
       "      <td>4.34</td>\n",
       "      <td>4.35</td>\n",
       "      <td>2.75</td>\n",
       "      <td>0</td>\n",
       "      <td>1</td>\n",
       "      <td>0</td>\n",
       "      <td>...</td>\n",
       "      <td>0</td>\n",
       "      <td>0</td>\n",
       "      <td>0</td>\n",
       "      <td>0</td>\n",
       "      <td>0</td>\n",
       "      <td>0</td>\n",
       "      <td>0</td>\n",
       "      <td>0</td>\n",
       "      <td>0</td>\n",
       "      <td>1</td>\n",
       "    </tr>\n",
       "  </tbody>\n",
       "</table>\n",
       "<p>5 rows × 27 columns</p>\n",
       "</div>"
      ],
      "text/plain": [
       "   carat  depth  table  price     x     y     z  cut_Fair  cut_Good  \\\n",
       "0   0.23   61.5   55.0    326  3.95  3.98  2.43         0         0   \n",
       "1   0.21   59.8   61.0    326  3.89  3.84  2.31         0         0   \n",
       "2   0.23   56.9   65.0    327  4.05  4.07  2.31         0         1   \n",
       "3   0.29   62.4   58.0    334  4.20  4.23  2.63         0         0   \n",
       "4   0.31   63.3   58.0    335  4.34  4.35  2.75         0         1   \n",
       "\n",
       "   cut_Ideal  ...  clarity_VS2  clarity_VVS1  clarity_VVS2  color_D  color_E  \\\n",
       "0          1  ...            0             0             0        0        1   \n",
       "1          0  ...            0             0             0        0        1   \n",
       "2          0  ...            0             0             0        0        1   \n",
       "3          0  ...            1             0             0        0        0   \n",
       "4          0  ...            0             0             0        0        0   \n",
       "\n",
       "   color_F  color_G  color_H  color_I  color_J  \n",
       "0        0        0        0        0        0  \n",
       "1        0        0        0        0        0  \n",
       "2        0        0        0        0        0  \n",
       "3        0        0        0        1        0  \n",
       "4        0        0        0        0        1  \n",
       "\n",
       "[5 rows x 27 columns]"
      ]
     },
     "execution_count": 8,
     "metadata": {},
     "output_type": "execute_result"
    }
   ],
   "source": [
    "one_hot_encoded_data.head()"
   ]
  },
  {
   "cell_type": "code",
   "execution_count": 10,
   "id": "6dae5b71",
   "metadata": {},
   "outputs": [],
   "source": [
    "y = one_hot_df[\"price\"] # Features\n",
    "X = one_hot_df.drop(['price'], axis=1) # Target variable (price of diamonds)"
   ]
  },
  {
   "cell_type": "code",
   "execution_count": 11,
   "id": "48f6321e",
   "metadata": {},
   "outputs": [
    {
     "data": {
      "text/plain": [
       "Index(['carat', 'depth', 'table', 'x', 'y', 'z', 'cut_Fair', 'cut_Good',\n",
       "       'cut_Ideal', 'cut_Premium', 'cut_Very Good', 'clarity_I1', 'clarity_IF',\n",
       "       'clarity_SI1', 'clarity_SI2', 'clarity_VS1', 'clarity_VS2',\n",
       "       'clarity_VVS1', 'clarity_VVS2', 'color_D', 'color_E', 'color_F',\n",
       "       'color_G', 'color_H', 'color_I', 'color_J'],\n",
       "      dtype='object')"
      ]
     },
     "execution_count": 11,
     "metadata": {},
     "output_type": "execute_result"
    }
   ],
   "source": [
    "X.columns"
   ]
  },
  {
   "cell_type": "code",
   "execution_count": 12,
   "id": "58fa83e3",
   "metadata": {},
   "outputs": [
    {
     "data": {
      "text/plain": [
       "0         326\n",
       "1         326\n",
       "2         327\n",
       "3         334\n",
       "4         335\n",
       "         ... \n",
       "53935    2757\n",
       "53936    2757\n",
       "53937    2757\n",
       "53938    2757\n",
       "53939    2757\n",
       "Name: price, Length: 53940, dtype: int64"
      ]
     },
     "execution_count": 12,
     "metadata": {},
     "output_type": "execute_result"
    }
   ],
   "source": [
    "y"
   ]
  },
  {
   "cell_type": "markdown",
   "id": "1f7a226e",
   "metadata": {},
   "source": [
    "3. Splitting the data"
   ]
  },
  {
   "cell_type": "code",
   "execution_count": 13,
   "id": "c45b5afb",
   "metadata": {},
   "outputs": [],
   "source": [
    "# Split the data into training and testing sets\n",
    "X_train, X_test, y_train, y_test = train_test_split(X, y, test_size=0.2, random_state=0)"
   ]
  },
  {
   "cell_type": "markdown",
   "id": "f936b2ff",
   "metadata": {},
   "source": [
    "## `StandardScaler`\n",
    "---\n",
    "\n",
    "Sometimes, our variables are not from the same scale, especially when performing clustering and distance measures are calculated. \n",
    "\n",
    "It may be important to scale our data. In the cells below, we will create an instance of `StandardScaler` and use it to transform `X_train` and `X_test`.\n",
    "\n",
    "This will:\n",
    "- calculate the mean and sd of the training data so that it can be transformed to the standard normal scale (mean = 0, sd = 1)\n",
    "- Transform the test data using the same mean and sd from the training data "
   ]
  },
  {
   "cell_type": "code",
   "execution_count": 20,
   "id": "c271e7c7",
   "metadata": {},
   "outputs": [],
   "source": [
    "ss = StandardScaler()\n",
    "X_train_sc = ss.fit_transform(X_train)\n",
    "X_test_sc = ss.transform(X_test)"
   ]
  },
  {
   "cell_type": "markdown",
   "id": "7ff092d3",
   "metadata": {},
   "source": [
    "4. Creating and training the model"
   ]
  },
  {
   "cell_type": "code",
   "execution_count": 21,
   "id": "32c4165c",
   "metadata": {},
   "outputs": [
    {
     "data": {
      "text/html": [
       "<style>#sk-container-id-2 {color: black;}#sk-container-id-2 pre{padding: 0;}#sk-container-id-2 div.sk-toggleable {background-color: white;}#sk-container-id-2 label.sk-toggleable__label {cursor: pointer;display: block;width: 100%;margin-bottom: 0;padding: 0.3em;box-sizing: border-box;text-align: center;}#sk-container-id-2 label.sk-toggleable__label-arrow:before {content: \"▸\";float: left;margin-right: 0.25em;color: #696969;}#sk-container-id-2 label.sk-toggleable__label-arrow:hover:before {color: black;}#sk-container-id-2 div.sk-estimator:hover label.sk-toggleable__label-arrow:before {color: black;}#sk-container-id-2 div.sk-toggleable__content {max-height: 0;max-width: 0;overflow: hidden;text-align: left;background-color: #f0f8ff;}#sk-container-id-2 div.sk-toggleable__content pre {margin: 0.2em;color: black;border-radius: 0.25em;background-color: #f0f8ff;}#sk-container-id-2 input.sk-toggleable__control:checked~div.sk-toggleable__content {max-height: 200px;max-width: 100%;overflow: auto;}#sk-container-id-2 input.sk-toggleable__control:checked~label.sk-toggleable__label-arrow:before {content: \"▾\";}#sk-container-id-2 div.sk-estimator input.sk-toggleable__control:checked~label.sk-toggleable__label {background-color: #d4ebff;}#sk-container-id-2 div.sk-label input.sk-toggleable__control:checked~label.sk-toggleable__label {background-color: #d4ebff;}#sk-container-id-2 input.sk-hidden--visually {border: 0;clip: rect(1px 1px 1px 1px);clip: rect(1px, 1px, 1px, 1px);height: 1px;margin: -1px;overflow: hidden;padding: 0;position: absolute;width: 1px;}#sk-container-id-2 div.sk-estimator {font-family: monospace;background-color: #f0f8ff;border: 1px dotted black;border-radius: 0.25em;box-sizing: border-box;margin-bottom: 0.5em;}#sk-container-id-2 div.sk-estimator:hover {background-color: #d4ebff;}#sk-container-id-2 div.sk-parallel-item::after {content: \"\";width: 100%;border-bottom: 1px solid gray;flex-grow: 1;}#sk-container-id-2 div.sk-label:hover label.sk-toggleable__label {background-color: #d4ebff;}#sk-container-id-2 div.sk-serial::before {content: \"\";position: absolute;border-left: 1px solid gray;box-sizing: border-box;top: 0;bottom: 0;left: 50%;z-index: 0;}#sk-container-id-2 div.sk-serial {display: flex;flex-direction: column;align-items: center;background-color: white;padding-right: 0.2em;padding-left: 0.2em;position: relative;}#sk-container-id-2 div.sk-item {position: relative;z-index: 1;}#sk-container-id-2 div.sk-parallel {display: flex;align-items: stretch;justify-content: center;background-color: white;position: relative;}#sk-container-id-2 div.sk-item::before, #sk-container-id-2 div.sk-parallel-item::before {content: \"\";position: absolute;border-left: 1px solid gray;box-sizing: border-box;top: 0;bottom: 0;left: 50%;z-index: -1;}#sk-container-id-2 div.sk-parallel-item {display: flex;flex-direction: column;z-index: 1;position: relative;background-color: white;}#sk-container-id-2 div.sk-parallel-item:first-child::after {align-self: flex-end;width: 50%;}#sk-container-id-2 div.sk-parallel-item:last-child::after {align-self: flex-start;width: 50%;}#sk-container-id-2 div.sk-parallel-item:only-child::after {width: 0;}#sk-container-id-2 div.sk-dashed-wrapped {border: 1px dashed gray;margin: 0 0.4em 0.5em 0.4em;box-sizing: border-box;padding-bottom: 0.4em;background-color: white;}#sk-container-id-2 div.sk-label label {font-family: monospace;font-weight: bold;display: inline-block;line-height: 1.2em;}#sk-container-id-2 div.sk-label-container {text-align: center;}#sk-container-id-2 div.sk-container {/* jupyter's `normalize.less` sets `[hidden] { display: none; }` but bootstrap.min.css set `[hidden] { display: none !important; }` so we also need the `!important` here to be able to override the default hidden behavior on the sphinx rendered scikit-learn.org. See: https://github.com/scikit-learn/scikit-learn/issues/21755 */display: inline-block !important;position: relative;}#sk-container-id-2 div.sk-text-repr-fallback {display: none;}</style><div id=\"sk-container-id-2\" class=\"sk-top-container\"><div class=\"sk-text-repr-fallback\"><pre>LinearRegression()</pre><b>In a Jupyter environment, please rerun this cell to show the HTML representation or trust the notebook. <br />On GitHub, the HTML representation is unable to render, please try loading this page with nbviewer.org.</b></div><div class=\"sk-container\" hidden><div class=\"sk-item\"><div class=\"sk-estimator sk-toggleable\"><input class=\"sk-toggleable__control sk-hidden--visually\" id=\"sk-estimator-id-2\" type=\"checkbox\" checked><label for=\"sk-estimator-id-2\" class=\"sk-toggleable__label sk-toggleable__label-arrow\">LinearRegression</label><div class=\"sk-toggleable__content\"><pre>LinearRegression()</pre></div></div></div></div></div>"
      ],
      "text/plain": [
       "LinearRegression()"
      ]
     },
     "execution_count": 21,
     "metadata": {},
     "output_type": "execute_result"
    }
   ],
   "source": [
    "# Create and train the linear regression model\n",
    "model = LinearRegression()\n",
    "model.fit(X_train_sc, y_train)"
   ]
  },
  {
   "cell_type": "markdown",
   "id": "c4777ec8",
   "metadata": {},
   "source": [
    "5. Making predictions"
   ]
  },
  {
   "cell_type": "code",
   "execution_count": 22,
   "id": "6da2fc4d",
   "metadata": {},
   "outputs": [],
   "source": [
    "# Make predictions using the trained model\n",
    "y_pred = model.predict(X_test_sc)\n"
   ]
  },
  {
   "cell_type": "markdown",
   "id": "ee8ab738",
   "metadata": {},
   "source": [
    "6. Calculating Mean Squared Error"
   ]
  },
  {
   "cell_type": "code",
   "execution_count": 23,
   "id": "e0e2f4f8",
   "metadata": {},
   "outputs": [
    {
     "name": "stdout",
     "output_type": "stream",
     "text": [
      "Mean Squared Error: 1248486.7135639726\n"
     ]
    }
   ],
   "source": [
    "# Calculate Mean Squared Error (MSE)\n",
    "mse = mean_squared_error(y_test, y_pred)\n",
    "print(\"Mean Squared Error:\", mse)"
   ]
  },
  {
   "cell_type": "markdown",
   "id": "c5df5f72",
   "metadata": {},
   "source": [
    "7. Plotting predicted vs. actual values"
   ]
  },
  {
   "cell_type": "code",
   "execution_count": 24,
   "id": "eb85723f",
   "metadata": {},
   "outputs": [
    {
     "data": {
      "text/plain": [
       "<matplotlib.collections.PathCollection at 0x175cdc95880>"
      ]
     },
     "execution_count": 24,
     "metadata": {},
     "output_type": "execute_result"
    },
    {
     "data": {
      "image/png": "[encoded data removed]",
      "text/plain": [
       "<Figure size 640x480 with 1 Axes>"
      ]
     },
     "metadata": {},
     "output_type": "display_data"
    }
   ],
   "source": [
    "# Plot predicted vs. actual values\n",
    "plt.scatter(y_pred,y_test)"
   ]
  },
  {
   "cell_type": "markdown",
   "id": "16118273",
   "metadata": {},
   "source": [
    "8. Model Evaluation "
   ]
  },
  {
   "cell_type": "code",
   "execution_count": 25,
   "id": "eb2bbb12",
   "metadata": {},
   "outputs": [
    {
     "name": "stdout",
     "output_type": "stream",
     "text": [
      "Mean Absolute Error (MAE) 737.4354677843593\n",
      "Root Mean Squared Error (RMSE) setting squared = false 1117.357021530707\n",
      "Root Mean Squared Error (RMSE) 1117.357021530707\n",
      "R-squared: 0.9212394719973422\n"
     ]
    }
   ],
   "source": [
    "from sklearn.metrics import mean_absolute_error, mean_squared_error, r2_score\n",
    "\n",
    "print('Mean Absolute Error (MAE)',mean_absolute_error(y_test,y_pred))\n",
    "print('Root Mean Squared Error (RMSE) setting squared = false',mean_squared_error(y_test,y_pred, squared=False))\n",
    "print('Root Mean Squared Error (RMSE)',np.sqrt(mean_squared_error(y_test,y_pred)))\n",
    "print('R-squared:',r2_score(y_test,y_pred))"
   ]
  },
  {
   "cell_type": "markdown",
   "id": "f41c3547",
   "metadata": {},
   "source": [
    "1. Mean Absolute Error (MAE):\n",
    "\n",
    "-MAE measures the average absolute difference between the actual values and the predicted values.\n",
    "\n",
    "-In this case, the MAE is approximately 3.843. This means, on average, the linear regression model's predictions are off by about 3.843 units from the actual values.\n",
    "\n",
    "-MAE is easy to understand and gives a sense of the magnitude of errors in your model's predictions."
   ]
  },
  {
   "cell_type": "markdown",
   "id": "ed7d44f9",
   "metadata": {},
   "source": [
    "2. Root Mean Squared Error (RMSE):\n",
    "\n",
    "-RMSE is similar to MAE but gives more weight to larger errors because it takes the square of the differences.\n",
    "\n",
    "-In this case, the RMSE is approximately 5.784. This means, on average, your model's predictions are off by about 5.784 units from the actual values, and larger errors have a more significant impact on this metric compared to MAE.\n",
    "\n",
    "-RMSE is sensitive to outliers and is a useful metric when you want to penalize larger errors more."
   ]
  },
  {
   "cell_type": "markdown",
   "id": "0b9b783a",
   "metadata": {},
   "source": [
    "3. R-squared (R²):\n",
    "\n",
    "-R-squared measures the proportion of the variance in the dependent variable (the one you're trying to predict) that is predictable from the independent variables (features) in your model.\n",
    "\n",
    "-In this case, the R-squared value is approximately 0.5892, which means that about 58.92% of the variance in the dependent variable is explained by your linear regression model.\n",
    "\n",
    "-R-squared ranges from 0 to 1, where 1 indicates that the model explains all the variance, and 0 indicates that the model explains none of the variance.\n",
    "\n",
    "\n",
    "\n",
    "\n",
    "\n"
   ]
  },
  {
   "cell_type": "code",
   "execution_count": null,
   "id": "b19fe22a",
   "metadata": {},
   "outputs": [],
   "source": [
    "list=[15,30,40,55,75,90]"
   ]
  },
  {
   "cell_type": "code",
   "execution_count": null,
   "id": "c6b0d32e",
   "metadata": {},
   "outputs": [],
   "source": [
    "np.mean(list)"
   ]
  },
  {
   "cell_type": "code",
   "execution_count": null,
   "id": "226773a5",
   "metadata": {},
   "outputs": [],
   "source": [
    "(15-np.mean(list))**2\n"
   ]
  },
  {
   "cell_type": "code",
   "execution_count": null,
   "id": "21c23413",
   "metadata": {},
   "outputs": [],
   "source": []
  }
 ],
 "metadata": {
  "kernelspec": {
   "display_name": "Python 3 (ipykernel)",
   "language": "python",
   "name": "python3"
  },
  "language_info": {
   "codemirror_mode": {
    "name": "ipython",
    "version": 3
   },
   "file_extension": ".py",
   "mimetype": "text/x-python",
   "name": "python",
   "nbconvert_exporter": "python",
   "pygments_lexer": "ipython3",
   "version": "3.11.4"
  }
 },
 "nbformat": 4,
 "nbformat_minor": 5
}
